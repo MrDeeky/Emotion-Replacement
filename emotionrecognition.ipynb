{
  "nbformat": 4,
  "nbformat_minor": 0,
  "metadata": {
    "colab": {
      "name": "CSC420_Project.ipynb",
      "provenance": [],
      "collapsed_sections": [],
      "toc_visible": true
    },
    "kernelspec": {
      "name": "python3",
      "display_name": "Python 3"
    },
    "accelerator": "GPU"
  },
  "cells": [
    {
      "cell_type": "code",
      "metadata": {
        "id": "8v5ZzMMl-cTJ",
        "colab_type": "code",
        "outputId": "3e36ae9a-9fc8-44e8-8971-4c72cbe54644",
        "colab": {
          "base_uri": "https://localhost:8080/",
          "height": 122
        }
      },
      "source": [
        "from google.colab import drive\n",
        "drive.mount('/content/drive')"
      ],
      "execution_count": 0,
      "outputs": [
        {
          "output_type": "stream",
          "text": [
            "Go to this URL in a browser: https://accounts.google.com/o/oauth2/auth?client_id=947318989803-6bn6qk8qdgf4n4g3pfee6491hc0brc4i.apps.googleusercontent.com&redirect_uri=urn%3aietf%3awg%3aoauth%3a2.0%3aoob&response_type=code&scope=email%20https%3a%2f%2fwww.googleapis.com%2fauth%2fdocs.test%20https%3a%2f%2fwww.googleapis.com%2fauth%2fdrive%20https%3a%2f%2fwww.googleapis.com%2fauth%2fdrive.photos.readonly%20https%3a%2f%2fwww.googleapis.com%2fauth%2fpeopleapi.readonly\n",
            "\n",
            "Enter your authorization code:\n",
            "··········\n",
            "Mounted at /content/drive\n"
          ],
          "name": "stdout"
        }
      ]
    },
    {
      "cell_type": "code",
      "metadata": {
        "id": "sbK_T05V-Mn-",
        "colab_type": "code",
        "colab": {}
      },
      "source": [
        "try:\n",
        "  %tensorflow_version 2.x\n",
        "except Exception:\n",
        "  pass\n",
        "import tensorflow as tf\n",
        "from tensorflow.keras.layers import Conv2D, BatchNormalization, Activation, SeparableConv2D, MaxPooling2D, Add, GlobalAveragePooling2D, Input\n",
        "from tensorflow.keras import Model\n",
        "from tensorflow.keras.preprocessing.image import ImageDataGenerator\n",
        "\n",
        "import pandas as pd\n",
        "import cv2\n",
        "import numpy as np\n",
        "import matplotlib.pyplot as plt\n",
        "from sklearn.model_selection  import train_test_split"
      ],
      "execution_count": 0,
      "outputs": []
    },
    {
      "cell_type": "markdown",
      "metadata": {
        "id": "0hC0qGOU_XIc",
        "colab_type": "text"
      },
      "source": [
        "# Credits\n",
        "\n",
        "Implementation based from: https://github.com/omar178/Emotion-recognition#p4"
      ]
    },
    {
      "cell_type": "markdown",
      "metadata": {
        "id": "OESHE4ePyM7W",
        "colab_type": "text"
      },
      "source": [
        "#Dataset\n",
        "\n",
        "Source: https://www.kaggle.com/c/challenges-in-representation-learning-facial-expression-recognition-challenge/data"
      ]
    },
    {
      "cell_type": "code",
      "metadata": {
        "id": "CY3WSZbpyQq_",
        "colab_type": "code",
        "colab": {}
      },
      "source": [
        "dataset = pd.read_csv('/content/drive/My Drive/fer2013.csv')\n",
        "\n",
        "# convert pixels to original image size (48x48) and resize to (128, 128)\n",
        "pixels = dataset['pixels'].tolist()\n",
        "faces = []\n",
        "for sequence in pixels:\n",
        "  face = []\n",
        "  values = sequence.split(' ')\n",
        "  for value in values:\n",
        "    face.append(value)\n",
        "  face = np.array(face).reshape(48, 48)\n",
        "  face = cv2.resize(face.astype('uint8'), (128, 128))\n",
        "  faces.append(face.astype('float32'))\n",
        "faces = np.expand_dims(faces, -1)\n",
        "\n",
        "# convert emotion value to 1D vector\n",
        "emotion = dataset['emotion'].tolist()\n",
        "emotions = []\n",
        "# 0=Angry, 1=Disgust, 2=Fear, 3=Happy, 4=Sad, 5=Surprise, 6=Neutral\n",
        "expression = [np.array([1, 0, 0, 0, 0, 0, 0]), np.array([0, 1, 0, 0, 0, 0, 0]),\n",
        "              np.array([0, 0, 1, 0, 0, 0, 0]), np.array([0, 0, 0, 1, 0, 0, 0]),\n",
        "              np.array([0 ,0 ,0 ,0, 1, 0 ,0]), np.array([0, 0, 0, 0, 0, 1, 0]),\n",
        "              np.array([0, 0, 0, 0, 0, 0, 1])]\n",
        "for value in emotion:\n",
        "  emotions.append(expression[value])\n",
        "emotions = np.array(emotions)"
      ],
      "execution_count": 0,
      "outputs": []
    },
    {
      "cell_type": "code",
      "metadata": {
        "id": "C5S4iS5WKoy5",
        "colab_type": "code",
        "outputId": "ad435a54-e619-4f5c-c036-f0f23394539f",
        "colab": {
          "base_uri": "https://localhost:8080/",
          "height": 285
        }
      },
      "source": [
        "plt.imshow(np.squeeze(faces[12345]))\n",
        "plt.show()\n",
        "print(emotions[12345])"
      ],
      "execution_count": 0,
      "outputs": [
        {
          "output_type": "display_data",
          "data": {
            "image/png": "[encoded data removed]",
            "text/plain": [
              "<Figure size 432x288 with 1 Axes>"
            ]
          },
          "metadata": {
            "tags": []
          }
        },
        {
          "output_type": "stream",
          "text": [
            "[0 0 0 0 1 0 0]\n"
          ],
          "name": "stdout"
        }
      ]
    },
    {
      "cell_type": "markdown",
      "metadata": {
        "id": "pD5xKQr0-50s",
        "colab_type": "text"
      },
      "source": [
        "# XCeption CNN\n",
        "\n",
        "Source: https://arxiv.org/pdf/1610.02357.pdf\n",
        "\n",
        "We dropped the middle flow and only use entry + exit flow"
      ]
    },
    {
      "cell_type": "code",
      "metadata": {
        "id": "Cg2maRCE_j9x",
        "colab_type": "code",
        "colab": {}
      },
      "source": [
        "def XCeption(input):\n",
        "  out = input\n",
        "  for i in range(2):\n",
        "    out = Conv2D(filters=8, kernel_size=3, padding='same')(out)\n",
        "    out = BatchNormalization()(out)\n",
        "    out = Activation('relu')(out)\n",
        "\n",
        "  for filter in [16, 32, 64, 128]:\n",
        "    old = Conv2D(filters=filter, kernel_size=1, strides=2, padding='same')(out)\n",
        "    old = BatchNormalization()(old)\n",
        "\n",
        "    for i in range(2):\n",
        "      out = SeparableConv2D(filters=filter, kernel_size=3, padding='same')(out)\n",
        "      out = BatchNormalization()(out)\n",
        "      if i == 0:\n",
        "        out = Activation('relu')(out)\n",
        "\n",
        "    out = MaxPooling2D(pool_size=3,  strides=2, padding='same')(out)\n",
        "    out = Add()([out, old])\n",
        "\n",
        "  out = Conv2D(filters=7, kernel_size=3, padding='same')(out)\n",
        "  out = GlobalAveragePooling2D()(out)\n",
        "  out = Activation('softmax')(out)\n",
        "\n",
        "  return Model(input, out)"
      ],
      "execution_count": 0,
      "outputs": []
    },
    {
      "cell_type": "markdown",
      "metadata": {
        "id": "RsZ0emZAF1fV",
        "colab_type": "text"
      },
      "source": [
        "# Train/Testing"
      ]
    },
    {
      "cell_type": "code",
      "metadata": {
        "id": "YRzz1jYnIrXK",
        "colab_type": "code",
        "colab": {}
      },
      "source": [
        "# split dataset in a randomize manner so there's variation between trainings\n",
        "x_train, x_test, y_train, y_test = train_test_split(faces, emotions, shuffle=True)\n",
        "\n",
        "input = Input((128, 128, 1))\n",
        "cnn = XCeption(input)\n",
        "cnn.compile(optimizer='adam', loss='categorical_crossentropy', metrics=['accuracy'])\n",
        "# cnn.summary()\n",
        "cnn.load_weights('/content/drive/My Drive/emotion_recognition.h5')\n",
        "\n",
        "#mc = tf.keras.callbacks.ModelCheckpoint('/content/drive/My Drive/project_weights3/weight{epoch:04d}.h5', save_weights_only=True)\n",
        "\n",
        "#generator = ImageDataGenerator(rotation_range=30, width_shift_range=0.2, height_shift_range=0.2, horizontal_flip=True)\n",
        "#cnn.fit_generator(generator.flow(x_train, y_train), steps_per_epoch=(len(x_train)/32), epochs=200, callbacks=[mc], validation_data=(x_test, y_test))"
      ],
      "execution_count": 0,
      "outputs": []
    },
    {
      "cell_type": "code",
      "metadata": {
        "id": "q5c1axPiMHa7",
        "colab_type": "code",
        "outputId": "d8260d3c-cb22-42eb-c6a8-9ad0dc051817",
        "colab": {
          "base_uri": "https://localhost:8080/",
          "height": 119
        }
      },
      "source": [
        "print(np.shape(faces[12345]))\n",
        "img = faces[12345]\n",
        "img = np.expand_dims(img, axis=0)\n",
        "result = cnn.predict(img)[0]\n",
        "print(result)\n",
        "print(np.max(result))\n",
        "print(np.argmax(result))\n",
        "print(expression[4])"
      ],
      "execution_count": 0,
      "outputs": [
        {
          "output_type": "stream",
          "text": [
            "(128, 128, 1)\n",
            "[3.0984634e-03 4.5305504e-05 7.3009431e-02 2.3341244e-03 9.1433972e-01\n",
            " 1.8355870e-04 6.9894036e-03]\n",
            "0.9143397\n",
            "4\n",
            "[0 0 0 0 1 0 0]\n"
          ],
          "name": "stdout"
        }
      ]
    }
  ]
}